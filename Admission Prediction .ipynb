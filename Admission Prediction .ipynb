{
 "cells": [
  {
   "cell_type": "code",
   "execution_count": 1,
   "id": "fee5e36b",
   "metadata": {},
   "outputs": [],
   "source": [
    "import pandas as pd\n",
    "import numpy as np\n",
    "from sklearn.preprocessing import StandardScaler\n",
    "from sklearn.linear_model import Ridge,Lasso ,RidgeCV ,LassoCV,ElasticNet,ElasticNetCV,LinearRegression\n",
    "from sklearn.model_selection import train_test_split\n",
    "import statsmodels.api as sm\n",
    "import matplotlib.pyplot as plt\n",
    "import seaborn as sns\n",
    "from pandas_profiling import ProfileReport\n",
    "import pickle \n",
    "import warnings"
   ]
  },
  {
   "cell_type": "code",
   "execution_count": 2,
   "id": "5a188ee4",
   "metadata": {},
   "outputs": [],
   "source": [
    "warnings.filterwarnings('ignore')"
   ]
  },
  {
   "cell_type": "code",
   "execution_count": 3,
   "id": "fe236303",
   "metadata": {},
   "outputs": [],
   "source": [
    "df = pd.read_csv('Admission_Prediction.csv')"
   ]
  },
  {
   "cell_type": "code",
   "execution_count": 4,
   "id": "3a7f83ea",
   "metadata": {},
   "outputs": [
    {
     "data": {
      "text/html": [
       "<div>\n",
       "<style scoped>\n",
       "    .dataframe tbody tr th:only-of-type {\n",
       "        vertical-align: middle;\n",
       "    }\n",
       "\n",
       "    .dataframe tbody tr th {\n",
       "        vertical-align: top;\n",
       "    }\n",
       "\n",
       "    .dataframe thead th {\n",
       "        text-align: right;\n",
       "    }\n",
       "</style>\n",
       "<table border=\"1\" class=\"dataframe\">\n",
       "  <thead>\n",
       "    <tr style=\"text-align: right;\">\n",
       "      <th></th>\n",
       "      <th>Serial No.</th>\n",
       "      <th>GRE Score</th>\n",
       "      <th>TOEFL Score</th>\n",
       "      <th>University Rating</th>\n",
       "      <th>SOP</th>\n",
       "      <th>LOR</th>\n",
       "      <th>CGPA</th>\n",
       "      <th>Research</th>\n",
       "      <th>Chance of Admit</th>\n",
       "    </tr>\n",
       "  </thead>\n",
       "  <tbody>\n",
       "    <tr>\n",
       "      <th>0</th>\n",
       "      <td>1</td>\n",
       "      <td>337.0</td>\n",
       "      <td>118.0</td>\n",
       "      <td>4.0</td>\n",
       "      <td>4.5</td>\n",
       "      <td>4.5</td>\n",
       "      <td>9.65</td>\n",
       "      <td>1</td>\n",
       "      <td>0.92</td>\n",
       "    </tr>\n",
       "    <tr>\n",
       "      <th>1</th>\n",
       "      <td>2</td>\n",
       "      <td>324.0</td>\n",
       "      <td>107.0</td>\n",
       "      <td>4.0</td>\n",
       "      <td>4.0</td>\n",
       "      <td>4.5</td>\n",
       "      <td>8.87</td>\n",
       "      <td>1</td>\n",
       "      <td>0.76</td>\n",
       "    </tr>\n",
       "    <tr>\n",
       "      <th>2</th>\n",
       "      <td>3</td>\n",
       "      <td>NaN</td>\n",
       "      <td>104.0</td>\n",
       "      <td>3.0</td>\n",
       "      <td>3.0</td>\n",
       "      <td>3.5</td>\n",
       "      <td>8.00</td>\n",
       "      <td>1</td>\n",
       "      <td>0.72</td>\n",
       "    </tr>\n",
       "    <tr>\n",
       "      <th>3</th>\n",
       "      <td>4</td>\n",
       "      <td>322.0</td>\n",
       "      <td>110.0</td>\n",
       "      <td>3.0</td>\n",
       "      <td>3.5</td>\n",
       "      <td>2.5</td>\n",
       "      <td>8.67</td>\n",
       "      <td>1</td>\n",
       "      <td>0.80</td>\n",
       "    </tr>\n",
       "    <tr>\n",
       "      <th>4</th>\n",
       "      <td>5</td>\n",
       "      <td>314.0</td>\n",
       "      <td>103.0</td>\n",
       "      <td>2.0</td>\n",
       "      <td>2.0</td>\n",
       "      <td>3.0</td>\n",
       "      <td>8.21</td>\n",
       "      <td>0</td>\n",
       "      <td>0.65</td>\n",
       "    </tr>\n",
       "  </tbody>\n",
       "</table>\n",
       "</div>"
      ],
      "text/plain": [
       "   Serial No.  GRE Score  TOEFL Score  University Rating  SOP  LOR  CGPA  \\\n",
       "0           1      337.0        118.0                4.0  4.5  4.5  9.65   \n",
       "1           2      324.0        107.0                4.0  4.0  4.5  8.87   \n",
       "2           3        NaN        104.0                3.0  3.0  3.5  8.00   \n",
       "3           4      322.0        110.0                3.0  3.5  2.5  8.67   \n",
       "4           5      314.0        103.0                2.0  2.0  3.0  8.21   \n",
       "\n",
       "   Research  Chance of Admit  \n",
       "0         1             0.92  \n",
       "1         1             0.76  \n",
       "2         1             0.72  \n",
       "3         1             0.80  \n",
       "4         0             0.65  "
      ]
     },
     "execution_count": 4,
     "metadata": {},
     "output_type": "execute_result"
    }
   ],
   "source": [
    "df.head()"
   ]
  },
  {
   "cell_type": "code",
   "execution_count": 5,
   "id": "aa835581",
   "metadata": {},
   "outputs": [],
   "source": [
    "pf = ProfileReport(df)"
   ]
  },
  {
   "cell_type": "code",
   "execution_count": 6,
   "id": "4970bb61",
   "metadata": {},
   "outputs": [
    {
     "data": {
      "application/vnd.jupyter.widget-view+json": {
       "model_id": "f4205cabe05545568c2560799e9f5839",
       "version_major": 2,
       "version_minor": 0
      },
      "text/plain": [
       "Summarize dataset:   0%|          | 0/5 [00:00<?, ?it/s]"
      ]
     },
     "metadata": {},
     "output_type": "display_data"
    },
    {
     "data": {
      "application/vnd.jupyter.widget-view+json": {
       "model_id": "71292e1f55ca4723bf3393d49d5934f7",
       "version_major": 2,
       "version_minor": 0
      },
      "text/plain": [
       "Generate report structure:   0%|          | 0/1 [00:00<?, ?it/s]"
      ]
     },
     "metadata": {},
     "output_type": "display_data"
    },
    {
     "data": {
      "application/vnd.jupyter.widget-view+json": {
       "model_id": "",
       "version_major": 2,
       "version_minor": 0
      },
      "text/plain": [
       "Render widgets:   0%|          | 0/1 [00:00<?, ?it/s]"
      ]
     },
     "metadata": {},
     "output_type": "display_data"
    },
    {
     "data": {
      "application/vnd.jupyter.widget-view+json": {
       "model_id": "29c4cb6dba144e2e857a74ed53195a20",
       "version_major": 2,
       "version_minor": 0
      },
      "text/plain": [
       "VBox(children=(Tab(children=(Tab(children=(GridBox(children=(VBox(children=(GridspecLayout(children=(HTML(valu…"
      ]
     },
     "metadata": {},
     "output_type": "display_data"
    }
   ],
   "source": [
    "pf.to_widgets()"
   ]
  },
  {
   "cell_type": "markdown",
   "id": "f31e6aea",
   "metadata": {},
   "source": [
    "Some of the insights that we got from above analysis\n",
    "1. There is multicollineartiy in the dataset.\n",
    "2. There are missing values present in the dataset.\n",
    "3. The data is noramlly distibuted."
   ]
  },
  {
   "cell_type": "code",
   "execution_count": 7,
   "id": "04e96b2f",
   "metadata": {},
   "outputs": [],
   "source": [
    "df['GRE Score'] = df['GRE Score'].fillna(df['GRE Score'].mean())"
   ]
  },
  {
   "cell_type": "code",
   "execution_count": 8,
   "id": "6a372c5a",
   "metadata": {},
   "outputs": [],
   "source": [
    "df['TOEFL Score'] = df['TOEFL Score'].fillna(df['TOEFL Score'].mean())"
   ]
  },
  {
   "cell_type": "code",
   "execution_count": 9,
   "id": "32e8567e",
   "metadata": {},
   "outputs": [],
   "source": [
    "df['University Rating'] = df['University Rating'].fillna(df['University Rating'].mean())"
   ]
  },
  {
   "cell_type": "code",
   "execution_count": 10,
   "id": "7030783a",
   "metadata": {},
   "outputs": [
    {
     "data": {
      "text/html": [
       "<div>\n",
       "<style scoped>\n",
       "    .dataframe tbody tr th:only-of-type {\n",
       "        vertical-align: middle;\n",
       "    }\n",
       "\n",
       "    .dataframe tbody tr th {\n",
       "        vertical-align: top;\n",
       "    }\n",
       "\n",
       "    .dataframe thead th {\n",
       "        text-align: right;\n",
       "    }\n",
       "</style>\n",
       "<table border=\"1\" class=\"dataframe\">\n",
       "  <thead>\n",
       "    <tr style=\"text-align: right;\">\n",
       "      <th></th>\n",
       "      <th>Serial No.</th>\n",
       "      <th>GRE Score</th>\n",
       "      <th>TOEFL Score</th>\n",
       "      <th>University Rating</th>\n",
       "      <th>SOP</th>\n",
       "      <th>LOR</th>\n",
       "      <th>CGPA</th>\n",
       "      <th>Research</th>\n",
       "      <th>Chance of Admit</th>\n",
       "    </tr>\n",
       "  </thead>\n",
       "  <tbody>\n",
       "    <tr>\n",
       "      <th>count</th>\n",
       "      <td>500.000000</td>\n",
       "      <td>500.000000</td>\n",
       "      <td>500.000000</td>\n",
       "      <td>500.000000</td>\n",
       "      <td>500.000000</td>\n",
       "      <td>500.00000</td>\n",
       "      <td>500.000000</td>\n",
       "      <td>500.000000</td>\n",
       "      <td>500.00000</td>\n",
       "    </tr>\n",
       "    <tr>\n",
       "      <th>mean</th>\n",
       "      <td>250.500000</td>\n",
       "      <td>316.558763</td>\n",
       "      <td>107.187755</td>\n",
       "      <td>3.121649</td>\n",
       "      <td>3.374000</td>\n",
       "      <td>3.48400</td>\n",
       "      <td>8.576440</td>\n",
       "      <td>0.560000</td>\n",
       "      <td>0.72174</td>\n",
       "    </tr>\n",
       "    <tr>\n",
       "      <th>std</th>\n",
       "      <td>144.481833</td>\n",
       "      <td>11.103952</td>\n",
       "      <td>6.051338</td>\n",
       "      <td>1.128802</td>\n",
       "      <td>0.991004</td>\n",
       "      <td>0.92545</td>\n",
       "      <td>0.604813</td>\n",
       "      <td>0.496884</td>\n",
       "      <td>0.14114</td>\n",
       "    </tr>\n",
       "    <tr>\n",
       "      <th>min</th>\n",
       "      <td>1.000000</td>\n",
       "      <td>290.000000</td>\n",
       "      <td>92.000000</td>\n",
       "      <td>1.000000</td>\n",
       "      <td>1.000000</td>\n",
       "      <td>1.00000</td>\n",
       "      <td>6.800000</td>\n",
       "      <td>0.000000</td>\n",
       "      <td>0.34000</td>\n",
       "    </tr>\n",
       "    <tr>\n",
       "      <th>25%</th>\n",
       "      <td>125.750000</td>\n",
       "      <td>309.000000</td>\n",
       "      <td>103.000000</td>\n",
       "      <td>2.000000</td>\n",
       "      <td>2.500000</td>\n",
       "      <td>3.00000</td>\n",
       "      <td>8.127500</td>\n",
       "      <td>0.000000</td>\n",
       "      <td>0.63000</td>\n",
       "    </tr>\n",
       "    <tr>\n",
       "      <th>50%</th>\n",
       "      <td>250.500000</td>\n",
       "      <td>316.558763</td>\n",
       "      <td>107.000000</td>\n",
       "      <td>3.000000</td>\n",
       "      <td>3.500000</td>\n",
       "      <td>3.50000</td>\n",
       "      <td>8.560000</td>\n",
       "      <td>1.000000</td>\n",
       "      <td>0.72000</td>\n",
       "    </tr>\n",
       "    <tr>\n",
       "      <th>75%</th>\n",
       "      <td>375.250000</td>\n",
       "      <td>324.000000</td>\n",
       "      <td>112.000000</td>\n",
       "      <td>4.000000</td>\n",
       "      <td>4.000000</td>\n",
       "      <td>4.00000</td>\n",
       "      <td>9.040000</td>\n",
       "      <td>1.000000</td>\n",
       "      <td>0.82000</td>\n",
       "    </tr>\n",
       "    <tr>\n",
       "      <th>max</th>\n",
       "      <td>500.000000</td>\n",
       "      <td>340.000000</td>\n",
       "      <td>120.000000</td>\n",
       "      <td>5.000000</td>\n",
       "      <td>5.000000</td>\n",
       "      <td>5.00000</td>\n",
       "      <td>9.920000</td>\n",
       "      <td>1.000000</td>\n",
       "      <td>0.97000</td>\n",
       "    </tr>\n",
       "  </tbody>\n",
       "</table>\n",
       "</div>"
      ],
      "text/plain": [
       "       Serial No.   GRE Score  TOEFL Score  University Rating         SOP  \\\n",
       "count  500.000000  500.000000   500.000000         500.000000  500.000000   \n",
       "mean   250.500000  316.558763   107.187755           3.121649    3.374000   \n",
       "std    144.481833   11.103952     6.051338           1.128802    0.991004   \n",
       "min      1.000000  290.000000    92.000000           1.000000    1.000000   \n",
       "25%    125.750000  309.000000   103.000000           2.000000    2.500000   \n",
       "50%    250.500000  316.558763   107.000000           3.000000    3.500000   \n",
       "75%    375.250000  324.000000   112.000000           4.000000    4.000000   \n",
       "max    500.000000  340.000000   120.000000           5.000000    5.000000   \n",
       "\n",
       "             LOR        CGPA    Research  Chance of Admit  \n",
       "count  500.00000  500.000000  500.000000        500.00000  \n",
       "mean     3.48400    8.576440    0.560000          0.72174  \n",
       "std      0.92545    0.604813    0.496884          0.14114  \n",
       "min      1.00000    6.800000    0.000000          0.34000  \n",
       "25%      3.00000    8.127500    0.000000          0.63000  \n",
       "50%      3.50000    8.560000    1.000000          0.72000  \n",
       "75%      4.00000    9.040000    1.000000          0.82000  \n",
       "max      5.00000    9.920000    1.000000          0.97000  "
      ]
     },
     "execution_count": 10,
     "metadata": {},
     "output_type": "execute_result"
    }
   ],
   "source": [
    "df.describe()  #now count of each column is 500 means no missing values"
   ]
  },
  {
   "cell_type": "code",
   "execution_count": 11,
   "id": "e4425e15",
   "metadata": {},
   "outputs": [],
   "source": [
    "df.drop(columns= ['Serial No.'],inplace= True)"
   ]
  },
  {
   "cell_type": "code",
   "execution_count": 12,
   "id": "d97a78c8",
   "metadata": {},
   "outputs": [
    {
     "data": {
      "text/html": [
       "<div>\n",
       "<style scoped>\n",
       "    .dataframe tbody tr th:only-of-type {\n",
       "        vertical-align: middle;\n",
       "    }\n",
       "\n",
       "    .dataframe tbody tr th {\n",
       "        vertical-align: top;\n",
       "    }\n",
       "\n",
       "    .dataframe thead th {\n",
       "        text-align: right;\n",
       "    }\n",
       "</style>\n",
       "<table border=\"1\" class=\"dataframe\">\n",
       "  <thead>\n",
       "    <tr style=\"text-align: right;\">\n",
       "      <th></th>\n",
       "      <th>GRE Score</th>\n",
       "      <th>TOEFL Score</th>\n",
       "      <th>University Rating</th>\n",
       "      <th>SOP</th>\n",
       "      <th>LOR</th>\n",
       "      <th>CGPA</th>\n",
       "      <th>Research</th>\n",
       "      <th>Chance of Admit</th>\n",
       "    </tr>\n",
       "  </thead>\n",
       "  <tbody>\n",
       "    <tr>\n",
       "      <th>0</th>\n",
       "      <td>337.000000</td>\n",
       "      <td>118.0</td>\n",
       "      <td>4.0</td>\n",
       "      <td>4.5</td>\n",
       "      <td>4.5</td>\n",
       "      <td>9.65</td>\n",
       "      <td>1</td>\n",
       "      <td>0.92</td>\n",
       "    </tr>\n",
       "    <tr>\n",
       "      <th>1</th>\n",
       "      <td>324.000000</td>\n",
       "      <td>107.0</td>\n",
       "      <td>4.0</td>\n",
       "      <td>4.0</td>\n",
       "      <td>4.5</td>\n",
       "      <td>8.87</td>\n",
       "      <td>1</td>\n",
       "      <td>0.76</td>\n",
       "    </tr>\n",
       "    <tr>\n",
       "      <th>2</th>\n",
       "      <td>316.558763</td>\n",
       "      <td>104.0</td>\n",
       "      <td>3.0</td>\n",
       "      <td>3.0</td>\n",
       "      <td>3.5</td>\n",
       "      <td>8.00</td>\n",
       "      <td>1</td>\n",
       "      <td>0.72</td>\n",
       "    </tr>\n",
       "    <tr>\n",
       "      <th>3</th>\n",
       "      <td>322.000000</td>\n",
       "      <td>110.0</td>\n",
       "      <td>3.0</td>\n",
       "      <td>3.5</td>\n",
       "      <td>2.5</td>\n",
       "      <td>8.67</td>\n",
       "      <td>1</td>\n",
       "      <td>0.80</td>\n",
       "    </tr>\n",
       "    <tr>\n",
       "      <th>4</th>\n",
       "      <td>314.000000</td>\n",
       "      <td>103.0</td>\n",
       "      <td>2.0</td>\n",
       "      <td>2.0</td>\n",
       "      <td>3.0</td>\n",
       "      <td>8.21</td>\n",
       "      <td>0</td>\n",
       "      <td>0.65</td>\n",
       "    </tr>\n",
       "  </tbody>\n",
       "</table>\n",
       "</div>"
      ],
      "text/plain": [
       "    GRE Score  TOEFL Score  University Rating  SOP  LOR  CGPA  Research  \\\n",
       "0  337.000000        118.0                4.0  4.5  4.5  9.65         1   \n",
       "1  324.000000        107.0                4.0  4.0  4.5  8.87         1   \n",
       "2  316.558763        104.0                3.0  3.0  3.5  8.00         1   \n",
       "3  322.000000        110.0                3.0  3.5  2.5  8.67         1   \n",
       "4  314.000000        103.0                2.0  2.0  3.0  8.21         0   \n",
       "\n",
       "   Chance of Admit  \n",
       "0             0.92  \n",
       "1             0.76  \n",
       "2             0.72  \n",
       "3             0.80  \n",
       "4             0.65  "
      ]
     },
     "execution_count": 12,
     "metadata": {},
     "output_type": "execute_result"
    }
   ],
   "source": [
    "df.head()"
   ]
  },
  {
   "cell_type": "code",
   "execution_count": 13,
   "id": "7db09891",
   "metadata": {},
   "outputs": [],
   "source": [
    "y = df['Chance of Admit']"
   ]
  },
  {
   "cell_type": "code",
   "execution_count": 14,
   "id": "f51b9265",
   "metadata": {},
   "outputs": [],
   "source": [
    "x = df.drop(columns=['Chance of Admit'])   # this will give us all the faetures removing the label"
   ]
  },
  {
   "cell_type": "code",
   "execution_count": 15,
   "id": "fc11d5d3",
   "metadata": {},
   "outputs": [
    {
     "data": {
      "text/plain": [
       "0      0.92\n",
       "1      0.76\n",
       "2      0.72\n",
       "3      0.80\n",
       "4      0.65\n",
       "       ... \n",
       "495    0.87\n",
       "496    0.96\n",
       "497    0.93\n",
       "498    0.73\n",
       "499    0.84\n",
       "Name: Chance of Admit, Length: 500, dtype: float64"
      ]
     },
     "execution_count": 15,
     "metadata": {},
     "output_type": "execute_result"
    }
   ],
   "source": [
    "y"
   ]
  },
  {
   "cell_type": "code",
   "execution_count": 16,
   "id": "8aae1fd4",
   "metadata": {},
   "outputs": [
    {
     "data": {
      "text/html": [
       "<div>\n",
       "<style scoped>\n",
       "    .dataframe tbody tr th:only-of-type {\n",
       "        vertical-align: middle;\n",
       "    }\n",
       "\n",
       "    .dataframe tbody tr th {\n",
       "        vertical-align: top;\n",
       "    }\n",
       "\n",
       "    .dataframe thead th {\n",
       "        text-align: right;\n",
       "    }\n",
       "</style>\n",
       "<table border=\"1\" class=\"dataframe\">\n",
       "  <thead>\n",
       "    <tr style=\"text-align: right;\">\n",
       "      <th></th>\n",
       "      <th>GRE Score</th>\n",
       "      <th>TOEFL Score</th>\n",
       "      <th>University Rating</th>\n",
       "      <th>SOP</th>\n",
       "      <th>LOR</th>\n",
       "      <th>CGPA</th>\n",
       "      <th>Research</th>\n",
       "    </tr>\n",
       "  </thead>\n",
       "  <tbody>\n",
       "    <tr>\n",
       "      <th>0</th>\n",
       "      <td>337.000000</td>\n",
       "      <td>118.0</td>\n",
       "      <td>4.0</td>\n",
       "      <td>4.5</td>\n",
       "      <td>4.5</td>\n",
       "      <td>9.65</td>\n",
       "      <td>1</td>\n",
       "    </tr>\n",
       "    <tr>\n",
       "      <th>1</th>\n",
       "      <td>324.000000</td>\n",
       "      <td>107.0</td>\n",
       "      <td>4.0</td>\n",
       "      <td>4.0</td>\n",
       "      <td>4.5</td>\n",
       "      <td>8.87</td>\n",
       "      <td>1</td>\n",
       "    </tr>\n",
       "    <tr>\n",
       "      <th>2</th>\n",
       "      <td>316.558763</td>\n",
       "      <td>104.0</td>\n",
       "      <td>3.0</td>\n",
       "      <td>3.0</td>\n",
       "      <td>3.5</td>\n",
       "      <td>8.00</td>\n",
       "      <td>1</td>\n",
       "    </tr>\n",
       "    <tr>\n",
       "      <th>3</th>\n",
       "      <td>322.000000</td>\n",
       "      <td>110.0</td>\n",
       "      <td>3.0</td>\n",
       "      <td>3.5</td>\n",
       "      <td>2.5</td>\n",
       "      <td>8.67</td>\n",
       "      <td>1</td>\n",
       "    </tr>\n",
       "    <tr>\n",
       "      <th>4</th>\n",
       "      <td>314.000000</td>\n",
       "      <td>103.0</td>\n",
       "      <td>2.0</td>\n",
       "      <td>2.0</td>\n",
       "      <td>3.0</td>\n",
       "      <td>8.21</td>\n",
       "      <td>0</td>\n",
       "    </tr>\n",
       "    <tr>\n",
       "      <th>...</th>\n",
       "      <td>...</td>\n",
       "      <td>...</td>\n",
       "      <td>...</td>\n",
       "      <td>...</td>\n",
       "      <td>...</td>\n",
       "      <td>...</td>\n",
       "      <td>...</td>\n",
       "    </tr>\n",
       "    <tr>\n",
       "      <th>495</th>\n",
       "      <td>332.000000</td>\n",
       "      <td>108.0</td>\n",
       "      <td>5.0</td>\n",
       "      <td>4.5</td>\n",
       "      <td>4.0</td>\n",
       "      <td>9.02</td>\n",
       "      <td>1</td>\n",
       "    </tr>\n",
       "    <tr>\n",
       "      <th>496</th>\n",
       "      <td>337.000000</td>\n",
       "      <td>117.0</td>\n",
       "      <td>5.0</td>\n",
       "      <td>5.0</td>\n",
       "      <td>5.0</td>\n",
       "      <td>9.87</td>\n",
       "      <td>1</td>\n",
       "    </tr>\n",
       "    <tr>\n",
       "      <th>497</th>\n",
       "      <td>330.000000</td>\n",
       "      <td>120.0</td>\n",
       "      <td>5.0</td>\n",
       "      <td>4.5</td>\n",
       "      <td>5.0</td>\n",
       "      <td>9.56</td>\n",
       "      <td>1</td>\n",
       "    </tr>\n",
       "    <tr>\n",
       "      <th>498</th>\n",
       "      <td>312.000000</td>\n",
       "      <td>103.0</td>\n",
       "      <td>4.0</td>\n",
       "      <td>4.0</td>\n",
       "      <td>5.0</td>\n",
       "      <td>8.43</td>\n",
       "      <td>0</td>\n",
       "    </tr>\n",
       "    <tr>\n",
       "      <th>499</th>\n",
       "      <td>327.000000</td>\n",
       "      <td>113.0</td>\n",
       "      <td>4.0</td>\n",
       "      <td>4.5</td>\n",
       "      <td>4.5</td>\n",
       "      <td>9.04</td>\n",
       "      <td>0</td>\n",
       "    </tr>\n",
       "  </tbody>\n",
       "</table>\n",
       "<p>500 rows × 7 columns</p>\n",
       "</div>"
      ],
      "text/plain": [
       "      GRE Score  TOEFL Score  University Rating  SOP  LOR  CGPA  Research\n",
       "0    337.000000        118.0                4.0  4.5  4.5  9.65         1\n",
       "1    324.000000        107.0                4.0  4.0  4.5  8.87         1\n",
       "2    316.558763        104.0                3.0  3.0  3.5  8.00         1\n",
       "3    322.000000        110.0                3.0  3.5  2.5  8.67         1\n",
       "4    314.000000        103.0                2.0  2.0  3.0  8.21         0\n",
       "..          ...          ...                ...  ...  ...   ...       ...\n",
       "495  332.000000        108.0                5.0  4.5  4.0  9.02         1\n",
       "496  337.000000        117.0                5.0  5.0  5.0  9.87         1\n",
       "497  330.000000        120.0                5.0  4.5  5.0  9.56         1\n",
       "498  312.000000        103.0                4.0  4.0  5.0  8.43         0\n",
       "499  327.000000        113.0                4.0  4.5  4.5  9.04         0\n",
       "\n",
       "[500 rows x 7 columns]"
      ]
     },
     "execution_count": 16,
     "metadata": {},
     "output_type": "execute_result"
    }
   ],
   "source": [
    "x"
   ]
  },
  {
   "cell_type": "markdown",
   "id": "72c6d5aa",
   "metadata": {},
   "source": [
    "Now we will use StandardScaler because we can see there is a lot of dispersion in the data which will create difficulty fro our model to understand the relation. So we bring the data to lower level. "
   ]
  },
  {
   "cell_type": "code",
   "execution_count": 17,
   "id": "18a3597d",
   "metadata": {},
   "outputs": [],
   "source": [
    "scaler = StandardScaler()"
   ]
  },
  {
   "cell_type": "code",
   "execution_count": 18,
   "id": "203dcce4",
   "metadata": {},
   "outputs": [],
   "source": [
    "arr = scaler.fit_transform(x)"
   ]
  },
  {
   "cell_type": "code",
   "execution_count": 19,
   "id": "a9b201e9",
   "metadata": {},
   "outputs": [
    {
     "data": {
      "text/plain": [
       "array([[ 1.84274116e+00,  1.78854223e+00,  7.78905651e-01, ...,\n",
       "         1.09894429e+00,  1.77680627e+00,  8.86405260e-01],\n",
       "       [ 6.70814288e-01, -3.10581135e-02,  7.78905651e-01, ...,\n",
       "         1.09894429e+00,  4.85859428e-01,  8.86405260e-01],\n",
       "       [ 5.12433309e-15, -5.27312752e-01, -1.07876604e-01, ...,\n",
       "         1.73062093e-02, -9.54042814e-01,  8.86405260e-01],\n",
       "       ...,\n",
       "       [ 1.21170361e+00,  2.11937866e+00,  1.66568791e+00, ...,\n",
       "         1.63976333e+00,  1.62785086e+00,  8.86405260e-01],\n",
       "       [-4.10964364e-01, -6.92730965e-01,  7.78905651e-01, ...,\n",
       "         1.63976333e+00, -2.42366993e-01, -1.12815215e+00],\n",
       "       [ 9.41258951e-01,  9.61451165e-01,  7.78905651e-01, ...,\n",
       "         1.09894429e+00,  7.67219636e-01, -1.12815215e+00]])"
      ]
     },
     "execution_count": 19,
     "metadata": {},
     "output_type": "execute_result"
    }
   ],
   "source": [
    "arr"
   ]
  },
  {
   "cell_type": "code",
   "execution_count": 20,
   "id": "0d44bae6",
   "metadata": {},
   "outputs": [],
   "source": [
    "df1 = pd.DataFrame(arr)    #mean has become close to zero and standard deviation is close to 1 and dispersion of values is also less"
   ]
  },
  {
   "cell_type": "code",
   "execution_count": 21,
   "id": "94c78fb7",
   "metadata": {},
   "outputs": [
    {
     "data": {
      "text/html": [
       "<div>\n",
       "<style scoped>\n",
       "    .dataframe tbody tr th:only-of-type {\n",
       "        vertical-align: middle;\n",
       "    }\n",
       "\n",
       "    .dataframe tbody tr th {\n",
       "        vertical-align: top;\n",
       "    }\n",
       "\n",
       "    .dataframe thead th {\n",
       "        text-align: right;\n",
       "    }\n",
       "</style>\n",
       "<table border=\"1\" class=\"dataframe\">\n",
       "  <thead>\n",
       "    <tr style=\"text-align: right;\">\n",
       "      <th></th>\n",
       "      <th>0</th>\n",
       "      <th>1</th>\n",
       "      <th>2</th>\n",
       "      <th>3</th>\n",
       "      <th>4</th>\n",
       "      <th>5</th>\n",
       "      <th>6</th>\n",
       "    </tr>\n",
       "  </thead>\n",
       "  <tbody>\n",
       "    <tr>\n",
       "      <th>0</th>\n",
       "      <td>1.842741e+00</td>\n",
       "      <td>1.788542</td>\n",
       "      <td>0.778906</td>\n",
       "      <td>1.137360</td>\n",
       "      <td>1.098944</td>\n",
       "      <td>1.776806</td>\n",
       "      <td>0.886405</td>\n",
       "    </tr>\n",
       "    <tr>\n",
       "      <th>1</th>\n",
       "      <td>6.708143e-01</td>\n",
       "      <td>-0.031058</td>\n",
       "      <td>0.778906</td>\n",
       "      <td>0.632315</td>\n",
       "      <td>1.098944</td>\n",
       "      <td>0.485859</td>\n",
       "      <td>0.886405</td>\n",
       "    </tr>\n",
       "    <tr>\n",
       "      <th>2</th>\n",
       "      <td>5.124333e-15</td>\n",
       "      <td>-0.527313</td>\n",
       "      <td>-0.107877</td>\n",
       "      <td>-0.377773</td>\n",
       "      <td>0.017306</td>\n",
       "      <td>-0.954043</td>\n",
       "      <td>0.886405</td>\n",
       "    </tr>\n",
       "    <tr>\n",
       "      <th>3</th>\n",
       "      <td>4.905178e-01</td>\n",
       "      <td>0.465197</td>\n",
       "      <td>-0.107877</td>\n",
       "      <td>0.127271</td>\n",
       "      <td>-1.064332</td>\n",
       "      <td>0.154847</td>\n",
       "      <td>0.886405</td>\n",
       "    </tr>\n",
       "    <tr>\n",
       "      <th>4</th>\n",
       "      <td>-2.306679e-01</td>\n",
       "      <td>-0.692731</td>\n",
       "      <td>-0.994659</td>\n",
       "      <td>-1.387862</td>\n",
       "      <td>-0.523513</td>\n",
       "      <td>-0.606480</td>\n",
       "      <td>-1.128152</td>\n",
       "    </tr>\n",
       "    <tr>\n",
       "      <th>...</th>\n",
       "      <td>...</td>\n",
       "      <td>...</td>\n",
       "      <td>...</td>\n",
       "      <td>...</td>\n",
       "      <td>...</td>\n",
       "      <td>...</td>\n",
       "      <td>...</td>\n",
       "    </tr>\n",
       "    <tr>\n",
       "      <th>495</th>\n",
       "      <td>1.392000e+00</td>\n",
       "      <td>0.134360</td>\n",
       "      <td>1.665688</td>\n",
       "      <td>1.137360</td>\n",
       "      <td>0.558125</td>\n",
       "      <td>0.734118</td>\n",
       "      <td>0.886405</td>\n",
       "    </tr>\n",
       "    <tr>\n",
       "      <th>496</th>\n",
       "      <td>1.842741e+00</td>\n",
       "      <td>1.623124</td>\n",
       "      <td>1.665688</td>\n",
       "      <td>1.642404</td>\n",
       "      <td>1.639763</td>\n",
       "      <td>2.140919</td>\n",
       "      <td>0.886405</td>\n",
       "    </tr>\n",
       "    <tr>\n",
       "      <th>497</th>\n",
       "      <td>1.211704e+00</td>\n",
       "      <td>2.119379</td>\n",
       "      <td>1.665688</td>\n",
       "      <td>1.137360</td>\n",
       "      <td>1.639763</td>\n",
       "      <td>1.627851</td>\n",
       "      <td>0.886405</td>\n",
       "    </tr>\n",
       "    <tr>\n",
       "      <th>498</th>\n",
       "      <td>-4.109644e-01</td>\n",
       "      <td>-0.692731</td>\n",
       "      <td>0.778906</td>\n",
       "      <td>0.632315</td>\n",
       "      <td>1.639763</td>\n",
       "      <td>-0.242367</td>\n",
       "      <td>-1.128152</td>\n",
       "    </tr>\n",
       "    <tr>\n",
       "      <th>499</th>\n",
       "      <td>9.412590e-01</td>\n",
       "      <td>0.961451</td>\n",
       "      <td>0.778906</td>\n",
       "      <td>1.137360</td>\n",
       "      <td>1.098944</td>\n",
       "      <td>0.767220</td>\n",
       "      <td>-1.128152</td>\n",
       "    </tr>\n",
       "  </tbody>\n",
       "</table>\n",
       "<p>500 rows × 7 columns</p>\n",
       "</div>"
      ],
      "text/plain": [
       "                0         1         2         3         4         5         6\n",
       "0    1.842741e+00  1.788542  0.778906  1.137360  1.098944  1.776806  0.886405\n",
       "1    6.708143e-01 -0.031058  0.778906  0.632315  1.098944  0.485859  0.886405\n",
       "2    5.124333e-15 -0.527313 -0.107877 -0.377773  0.017306 -0.954043  0.886405\n",
       "3    4.905178e-01  0.465197 -0.107877  0.127271 -1.064332  0.154847  0.886405\n",
       "4   -2.306679e-01 -0.692731 -0.994659 -1.387862 -0.523513 -0.606480 -1.128152\n",
       "..            ...       ...       ...       ...       ...       ...       ...\n",
       "495  1.392000e+00  0.134360  1.665688  1.137360  0.558125  0.734118  0.886405\n",
       "496  1.842741e+00  1.623124  1.665688  1.642404  1.639763  2.140919  0.886405\n",
       "497  1.211704e+00  2.119379  1.665688  1.137360  1.639763  1.627851  0.886405\n",
       "498 -4.109644e-01 -0.692731  0.778906  0.632315  1.639763 -0.242367 -1.128152\n",
       "499  9.412590e-01  0.961451  0.778906  1.137360  1.098944  0.767220 -1.128152\n",
       "\n",
       "[500 rows x 7 columns]"
      ]
     },
     "execution_count": 21,
     "metadata": {},
     "output_type": "execute_result"
    }
   ],
   "source": [
    "df1"
   ]
  },
  {
   "cell_type": "code",
   "execution_count": 22,
   "id": "271069a2",
   "metadata": {},
   "outputs": [],
   "source": [
    "from statsmodels.stats.outliers_influence import variance_inflation_factor\n",
    "vif_df = pd.DataFrame()"
   ]
  },
  {
   "cell_type": "code",
   "execution_count": 23,
   "id": "4b4fb663",
   "metadata": {},
   "outputs": [],
   "source": [
    "vif_df['vif'] = [variance_inflation_factor(arr,i) for i in range(arr.shape[1])]"
   ]
  },
  {
   "cell_type": "code",
   "execution_count": 24,
   "id": "e8c15a92",
   "metadata": {},
   "outputs": [],
   "source": [
    "vif_df['feature'] = x.columns"
   ]
  },
  {
   "cell_type": "code",
   "execution_count": 25,
   "id": "c2b8ed83",
   "metadata": {},
   "outputs": [
    {
     "data": {
      "text/html": [
       "<div>\n",
       "<style scoped>\n",
       "    .dataframe tbody tr th:only-of-type {\n",
       "        vertical-align: middle;\n",
       "    }\n",
       "\n",
       "    .dataframe tbody tr th {\n",
       "        vertical-align: top;\n",
       "    }\n",
       "\n",
       "    .dataframe thead th {\n",
       "        text-align: right;\n",
       "    }\n",
       "</style>\n",
       "<table border=\"1\" class=\"dataframe\">\n",
       "  <thead>\n",
       "    <tr style=\"text-align: right;\">\n",
       "      <th></th>\n",
       "      <th>vif</th>\n",
       "      <th>feature</th>\n",
       "    </tr>\n",
       "  </thead>\n",
       "  <tbody>\n",
       "    <tr>\n",
       "      <th>0</th>\n",
       "      <td>4.153268</td>\n",
       "      <td>GRE Score</td>\n",
       "    </tr>\n",
       "    <tr>\n",
       "      <th>1</th>\n",
       "      <td>3.792866</td>\n",
       "      <td>TOEFL Score</td>\n",
       "    </tr>\n",
       "    <tr>\n",
       "      <th>2</th>\n",
       "      <td>2.508768</td>\n",
       "      <td>University Rating</td>\n",
       "    </tr>\n",
       "    <tr>\n",
       "      <th>3</th>\n",
       "      <td>2.775750</td>\n",
       "      <td>SOP</td>\n",
       "    </tr>\n",
       "    <tr>\n",
       "      <th>4</th>\n",
       "      <td>2.037308</td>\n",
       "      <td>LOR</td>\n",
       "    </tr>\n",
       "    <tr>\n",
       "      <th>5</th>\n",
       "      <td>4.651670</td>\n",
       "      <td>CGPA</td>\n",
       "    </tr>\n",
       "    <tr>\n",
       "      <th>6</th>\n",
       "      <td>1.459311</td>\n",
       "      <td>Research</td>\n",
       "    </tr>\n",
       "  </tbody>\n",
       "</table>\n",
       "</div>"
      ],
      "text/plain": [
       "        vif            feature\n",
       "0  4.153268          GRE Score\n",
       "1  3.792866        TOEFL Score\n",
       "2  2.508768  University Rating\n",
       "3  2.775750                SOP\n",
       "4  2.037308                LOR\n",
       "5  4.651670               CGPA\n",
       "6  1.459311           Research"
      ]
     },
     "execution_count": 25,
     "metadata": {},
     "output_type": "execute_result"
    }
   ],
   "source": [
    "vif_df   "
   ]
  },
  {
   "cell_type": "markdown",
   "id": "e75d8def",
   "metadata": {},
   "source": [
    "As vif values is less than 10 that means we don't need to drop any of the columns i.e there is no multicollinearity in the dataset and we can go forward with arr dataset"
   ]
  },
  {
   "cell_type": "code",
   "execution_count": 26,
   "id": "f34a7a8e",
   "metadata": {},
   "outputs": [],
   "source": [
    "x_train,x_test,y_train,y_test = train_test_split(arr,y,test_size = 0.15,random_state=100)"
   ]
  },
  {
   "cell_type": "code",
   "execution_count": 27,
   "id": "254318b4",
   "metadata": {},
   "outputs": [
    {
     "data": {
      "text/plain": [
       "array([[ 0.85111073,  0.46519653, -0.1078766 , ...,  0.01730621,\n",
       "         0.30380282,  0.88640526],\n",
       "       [-1.58289124, -1.1889856 , -1.88144112, ..., -1.60515091,\n",
       "        -1.13609942, -1.12815215],\n",
       "       [ 0.67081429,  0.63061474, -0.1078766 , ..., -2.14596996,\n",
       "         0.35345462,  0.88640526],\n",
       "       ...,\n",
       "       [-1.04200191, -0.85814918, -0.99465886, ..., -1.06433187,\n",
       "        -0.65613201, -1.12815215],\n",
       "       [-0.50111259, -0.85814918, -0.1078766 , ...,  0.55812525,\n",
       "         0.10519562,  0.88640526],\n",
       "       [-1.31244657, -0.85814918, -1.88144112, ..., -2.14596996,\n",
       "        -0.95404281, -1.12815215]])"
      ]
     },
     "execution_count": 27,
     "metadata": {},
     "output_type": "execute_result"
    }
   ],
   "source": [
    "x_train\n"
   ]
  },
  {
   "cell_type": "code",
   "execution_count": 28,
   "id": "3016a949",
   "metadata": {},
   "outputs": [],
   "source": [
    "lr = LinearRegression()"
   ]
  },
  {
   "cell_type": "code",
   "execution_count": 29,
   "id": "6c5d2836",
   "metadata": {},
   "outputs": [
    {
     "data": {
      "text/plain": [
       "LinearRegression()"
      ]
     },
     "execution_count": 29,
     "metadata": {},
     "output_type": "execute_result"
    }
   ],
   "source": [
    "lr.fit(x_train,y_train)"
   ]
  },
  {
   "cell_type": "code",
   "execution_count": 30,
   "id": "35c4f7c6",
   "metadata": {},
   "outputs": [],
   "source": [
    "pickle.dump(lr,open('admission_lr_model.pickle','wb'))"
   ]
  },
  {
   "cell_type": "code",
   "execution_count": 31,
   "id": "fda50cf0",
   "metadata": {},
   "outputs": [
    {
     "data": {
      "text/plain": [
       "array([10.08318535])"
      ]
     },
     "execution_count": 31,
     "metadata": {},
     "output_type": "execute_result"
    }
   ],
   "source": [
    "lr.predict([[337.000000,118.0,4.0,4.5,4.5,9.65,1]]) # its giving wrong output because we have to pass transformed data"
   ]
  },
  {
   "cell_type": "code",
   "execution_count": 36,
   "id": "4cf5dc83",
   "metadata": {},
   "outputs": [
    {
     "data": {
      "text/plain": [
       "array([0.95117594])"
      ]
     },
     "execution_count": 36,
     "metadata": {},
     "output_type": "execute_result"
    }
   ],
   "source": [
    "lr.predict(test1)"
   ]
  },
  {
   "cell_type": "code",
   "execution_count": 37,
   "id": "b699ccf7",
   "metadata": {},
   "outputs": [
    {
     "data": {
      "text/plain": [
       "array([0.65214989])"
      ]
     },
     "execution_count": 37,
     "metadata": {},
     "output_type": "execute_result"
    }
   ],
   "source": [
    "lr.predict(test2)"
   ]
  },
  {
   "cell_type": "code",
   "execution_count": 38,
   "id": "c454b0ab",
   "metadata": {},
   "outputs": [
    {
     "data": {
      "text/html": [
       "<div>\n",
       "<style scoped>\n",
       "    .dataframe tbody tr th:only-of-type {\n",
       "        vertical-align: middle;\n",
       "    }\n",
       "\n",
       "    .dataframe tbody tr th {\n",
       "        vertical-align: top;\n",
       "    }\n",
       "\n",
       "    .dataframe thead th {\n",
       "        text-align: right;\n",
       "    }\n",
       "</style>\n",
       "<table border=\"1\" class=\"dataframe\">\n",
       "  <thead>\n",
       "    <tr style=\"text-align: right;\">\n",
       "      <th></th>\n",
       "      <th>GRE Score</th>\n",
       "      <th>TOEFL Score</th>\n",
       "      <th>University Rating</th>\n",
       "      <th>SOP</th>\n",
       "      <th>LOR</th>\n",
       "      <th>CGPA</th>\n",
       "      <th>Research</th>\n",
       "      <th>Chance of Admit</th>\n",
       "    </tr>\n",
       "  </thead>\n",
       "  <tbody>\n",
       "    <tr>\n",
       "      <th>0</th>\n",
       "      <td>337.000000</td>\n",
       "      <td>118.0</td>\n",
       "      <td>4.0</td>\n",
       "      <td>4.5</td>\n",
       "      <td>4.5</td>\n",
       "      <td>9.65</td>\n",
       "      <td>1</td>\n",
       "      <td>0.92</td>\n",
       "    </tr>\n",
       "    <tr>\n",
       "      <th>1</th>\n",
       "      <td>324.000000</td>\n",
       "      <td>107.0</td>\n",
       "      <td>4.0</td>\n",
       "      <td>4.0</td>\n",
       "      <td>4.5</td>\n",
       "      <td>8.87</td>\n",
       "      <td>1</td>\n",
       "      <td>0.76</td>\n",
       "    </tr>\n",
       "    <tr>\n",
       "      <th>2</th>\n",
       "      <td>316.558763</td>\n",
       "      <td>104.0</td>\n",
       "      <td>3.0</td>\n",
       "      <td>3.0</td>\n",
       "      <td>3.5</td>\n",
       "      <td>8.00</td>\n",
       "      <td>1</td>\n",
       "      <td>0.72</td>\n",
       "    </tr>\n",
       "    <tr>\n",
       "      <th>3</th>\n",
       "      <td>322.000000</td>\n",
       "      <td>110.0</td>\n",
       "      <td>3.0</td>\n",
       "      <td>3.5</td>\n",
       "      <td>2.5</td>\n",
       "      <td>8.67</td>\n",
       "      <td>1</td>\n",
       "      <td>0.80</td>\n",
       "    </tr>\n",
       "    <tr>\n",
       "      <th>4</th>\n",
       "      <td>314.000000</td>\n",
       "      <td>103.0</td>\n",
       "      <td>2.0</td>\n",
       "      <td>2.0</td>\n",
       "      <td>3.0</td>\n",
       "      <td>8.21</td>\n",
       "      <td>0</td>\n",
       "      <td>0.65</td>\n",
       "    </tr>\n",
       "    <tr>\n",
       "      <th>...</th>\n",
       "      <td>...</td>\n",
       "      <td>...</td>\n",
       "      <td>...</td>\n",
       "      <td>...</td>\n",
       "      <td>...</td>\n",
       "      <td>...</td>\n",
       "      <td>...</td>\n",
       "      <td>...</td>\n",
       "    </tr>\n",
       "    <tr>\n",
       "      <th>495</th>\n",
       "      <td>332.000000</td>\n",
       "      <td>108.0</td>\n",
       "      <td>5.0</td>\n",
       "      <td>4.5</td>\n",
       "      <td>4.0</td>\n",
       "      <td>9.02</td>\n",
       "      <td>1</td>\n",
       "      <td>0.87</td>\n",
       "    </tr>\n",
       "    <tr>\n",
       "      <th>496</th>\n",
       "      <td>337.000000</td>\n",
       "      <td>117.0</td>\n",
       "      <td>5.0</td>\n",
       "      <td>5.0</td>\n",
       "      <td>5.0</td>\n",
       "      <td>9.87</td>\n",
       "      <td>1</td>\n",
       "      <td>0.96</td>\n",
       "    </tr>\n",
       "    <tr>\n",
       "      <th>497</th>\n",
       "      <td>330.000000</td>\n",
       "      <td>120.0</td>\n",
       "      <td>5.0</td>\n",
       "      <td>4.5</td>\n",
       "      <td>5.0</td>\n",
       "      <td>9.56</td>\n",
       "      <td>1</td>\n",
       "      <td>0.93</td>\n",
       "    </tr>\n",
       "    <tr>\n",
       "      <th>498</th>\n",
       "      <td>312.000000</td>\n",
       "      <td>103.0</td>\n",
       "      <td>4.0</td>\n",
       "      <td>4.0</td>\n",
       "      <td>5.0</td>\n",
       "      <td>8.43</td>\n",
       "      <td>0</td>\n",
       "      <td>0.73</td>\n",
       "    </tr>\n",
       "    <tr>\n",
       "      <th>499</th>\n",
       "      <td>327.000000</td>\n",
       "      <td>113.0</td>\n",
       "      <td>4.0</td>\n",
       "      <td>4.5</td>\n",
       "      <td>4.5</td>\n",
       "      <td>9.04</td>\n",
       "      <td>0</td>\n",
       "      <td>0.84</td>\n",
       "    </tr>\n",
       "  </tbody>\n",
       "</table>\n",
       "<p>500 rows × 8 columns</p>\n",
       "</div>"
      ],
      "text/plain": [
       "      GRE Score  TOEFL Score  University Rating  SOP  LOR  CGPA  Research  \\\n",
       "0    337.000000        118.0                4.0  4.5  4.5  9.65         1   \n",
       "1    324.000000        107.0                4.0  4.0  4.5  8.87         1   \n",
       "2    316.558763        104.0                3.0  3.0  3.5  8.00         1   \n",
       "3    322.000000        110.0                3.0  3.5  2.5  8.67         1   \n",
       "4    314.000000        103.0                2.0  2.0  3.0  8.21         0   \n",
       "..          ...          ...                ...  ...  ...   ...       ...   \n",
       "495  332.000000        108.0                5.0  4.5  4.0  9.02         1   \n",
       "496  337.000000        117.0                5.0  5.0  5.0  9.87         1   \n",
       "497  330.000000        120.0                5.0  4.5  5.0  9.56         1   \n",
       "498  312.000000        103.0                4.0  4.0  5.0  8.43         0   \n",
       "499  327.000000        113.0                4.0  4.5  4.5  9.04         0   \n",
       "\n",
       "     Chance of Admit  \n",
       "0               0.92  \n",
       "1               0.76  \n",
       "2               0.72  \n",
       "3               0.80  \n",
       "4               0.65  \n",
       "..               ...  \n",
       "495             0.87  \n",
       "496             0.96  \n",
       "497             0.93  \n",
       "498             0.73  \n",
       "499             0.84  \n",
       "\n",
       "[500 rows x 8 columns]"
      ]
     },
     "execution_count": 38,
     "metadata": {},
     "output_type": "execute_result"
    }
   ],
   "source": [
    "df"
   ]
  },
  {
   "cell_type": "code",
   "execution_count": 39,
   "id": "71fe93ad",
   "metadata": {},
   "outputs": [],
   "source": [
    "test1 =scaler.transform([[337.000000,118.0,4.0,4.5,4.5,9.65,1]])"
   ]
  },
  {
   "cell_type": "code",
   "execution_count": 40,
   "id": "a881e327",
   "metadata": {},
   "outputs": [],
   "source": [
    "test2 =scaler.transform([[316.558763,104.0,3.0,3.0,3.5,8.00,1]])"
   ]
  },
  {
   "cell_type": "code",
   "execution_count": 41,
   "id": "48098a67",
   "metadata": {},
   "outputs": [],
   "source": [
    "model = pickle.load(open('admission_lr_model.pickle','rb'))"
   ]
  },
  {
   "cell_type": "code",
   "execution_count": 42,
   "id": "9ed8494c",
   "metadata": {},
   "outputs": [
    {
     "data": {
      "text/plain": [
       "array([0.65214989])"
      ]
     },
     "execution_count": 42,
     "metadata": {},
     "output_type": "execute_result"
    }
   ],
   "source": [
    "model.predict(test2)"
   ]
  },
  {
   "cell_type": "code",
   "execution_count": 43,
   "id": "d219fab3",
   "metadata": {},
   "outputs": [
    {
     "data": {
      "text/plain": [
       "0.8420039560601401"
      ]
     },
     "execution_count": 43,
     "metadata": {},
     "output_type": "execute_result"
    }
   ],
   "source": [
    "lr.score(x_test,y_test)    #R^2"
   ]
  },
  {
   "cell_type": "code",
   "execution_count": 44,
   "id": "ba327773",
   "metadata": {},
   "outputs": [],
   "source": [
    "#we have to find adjusted R^2\n",
    "def adj_r2(x,y):\n",
    "    r2 = lr.score(x_test,y_test)\n",
    "    n = x.shape[0]\n",
    "    p = x.shape[1]\n",
    "    adjusted_r2 = 1-(1-r2)*(n-1)/(n-p-1)\n",
    "    return adjusted_r2"
   ]
  },
  {
   "cell_type": "code",
   "execution_count": 45,
   "id": "e6b05dea",
   "metadata": {},
   "outputs": [
    {
     "data": {
      "text/plain": [
       "0.8254969066932891"
      ]
     },
     "execution_count": 45,
     "metadata": {},
     "output_type": "execute_result"
    }
   ],
   "source": [
    "adj_r2(x_test,y_test)"
   ]
  },
  {
   "cell_type": "code",
   "execution_count": 46,
   "id": "21cd5057",
   "metadata": {},
   "outputs": [
    {
     "data": {
      "text/plain": [
       "array([ 0.01912905,  0.01780082,  0.00550634, -0.00025051,  0.01844312,\n",
       "        0.07254151,  0.01195331])"
      ]
     },
     "execution_count": 46,
     "metadata": {},
     "output_type": "execute_result"
    }
   ],
   "source": [
    "lr.coef_"
   ]
  },
  {
   "cell_type": "code",
   "execution_count": 47,
   "id": "8ef04db2",
   "metadata": {},
   "outputs": [
    {
     "data": {
      "text/plain": [
       "0.7203289055688045"
      ]
     },
     "execution_count": 47,
     "metadata": {},
     "output_type": "execute_result"
    }
   ],
   "source": [
    "lr.intercept_"
   ]
  },
  {
   "cell_type": "code",
   "execution_count": 48,
   "id": "d04beef5",
   "metadata": {},
   "outputs": [],
   "source": [
    "lassocv = LassoCV(alphas= None,cv=5,max_iter=2000000,normalize=True)"
   ]
  },
  {
   "cell_type": "code",
   "execution_count": 49,
   "id": "a43993b0",
   "metadata": {},
   "outputs": [
    {
     "data": {
      "text/plain": [
       "LassoCV(cv=5, max_iter=2000000, normalize=True)"
      ]
     },
     "execution_count": 49,
     "metadata": {},
     "output_type": "execute_result"
    }
   ],
   "source": [
    "lassocv.fit(x_train,y_train)"
   ]
  },
  {
   "cell_type": "code",
   "execution_count": 50,
   "id": "5d17bae8",
   "metadata": {},
   "outputs": [
    {
     "data": {
      "text/plain": [
       "4.203962663551952e-05"
      ]
     },
     "execution_count": 50,
     "metadata": {},
     "output_type": "execute_result"
    }
   ],
   "source": [
    "lassocv.alpha_"
   ]
  },
  {
   "cell_type": "code",
   "execution_count": 51,
   "id": "ab5800cb",
   "metadata": {},
   "outputs": [],
   "source": [
    "lasso = Lasso(alpha = lassocv.alpha_)"
   ]
  },
  {
   "cell_type": "code",
   "execution_count": 52,
   "id": "38b5a744",
   "metadata": {},
   "outputs": [
    {
     "data": {
      "text/plain": [
       "Lasso(alpha=4.203962663551952e-05)"
      ]
     },
     "execution_count": 52,
     "metadata": {},
     "output_type": "execute_result"
    }
   ],
   "source": [
    "lasso.fit(x_train,y_train)"
   ]
  },
  {
   "cell_type": "code",
   "execution_count": 53,
   "id": "93026b8d",
   "metadata": {},
   "outputs": [
    {
     "data": {
      "text/plain": [
       "0.8421260048013872"
      ]
     },
     "execution_count": 53,
     "metadata": {},
     "output_type": "execute_result"
    }
   ],
   "source": [
    "lasso.score(x_test,y_test)"
   ]
  },
  {
   "cell_type": "code",
   "execution_count": 54,
   "id": "33cb0a18",
   "metadata": {},
   "outputs": [],
   "source": [
    "ridgecv= RidgeCV(alphas= np.random.uniform(0,10,50),cv= 10,normalize= True)"
   ]
  },
  {
   "cell_type": "code",
   "execution_count": 55,
   "id": "200b5347",
   "metadata": {},
   "outputs": [
    {
     "data": {
      "text/plain": [
       "RidgeCV(alphas=array([6.68204965, 3.19637106, 1.03026743, 3.64993363, 2.97398927,\n",
       "       8.3454853 , 8.38807006, 3.88454206, 2.91640114, 5.26553035,\n",
       "       6.45401583, 3.83464608, 4.18854292, 2.30884052, 1.93438421,\n",
       "       8.5798477 , 1.43522014, 4.03772832, 1.50891667, 3.76786624,\n",
       "       8.52663741, 1.62264038, 1.38339071, 5.92936648, 0.13692136,\n",
       "       2.73567118, 7.07637867, 3.50700217, 9.41369405, 6.24604438,\n",
       "       3.23920146, 3.91004311, 3.72087749, 5.95067496, 4.62111776,\n",
       "       6.39288164, 7.48675185, 4.21076565, 6.39268389, 9.21218936,\n",
       "       9.9335562 , 6.1579896 , 9.50609126, 1.93408987, 4.38271384,\n",
       "       5.98524073, 1.94024016, 2.12090484, 3.78909938, 3.36217317]),\n",
       "        cv=10, normalize=True)"
      ]
     },
     "execution_count": 55,
     "metadata": {},
     "output_type": "execute_result"
    }
   ],
   "source": [
    "ridgecv.fit(x_train,y_train)"
   ]
  },
  {
   "cell_type": "code",
   "execution_count": 56,
   "id": "08e0c765",
   "metadata": {},
   "outputs": [
    {
     "data": {
      "text/plain": [
       "0.13692135678246786"
      ]
     },
     "execution_count": 56,
     "metadata": {},
     "output_type": "execute_result"
    }
   ],
   "source": [
    "ridgecv.alpha_"
   ]
  },
  {
   "cell_type": "code",
   "execution_count": 57,
   "id": "907c589b",
   "metadata": {},
   "outputs": [
    {
     "data": {
      "text/plain": [
       "array([8.12728134, 2.96776034, 4.49695048, 6.63531763, 5.3711624 ,\n",
       "       1.18056992, 1.38999668, 7.70516934, 2.32506583, 1.22754864,\n",
       "       3.24027985, 8.36053979, 5.36938124, 5.66179225, 2.44195783,\n",
       "       5.39009068, 6.1688799 , 0.76450699, 3.87241082, 0.80357198,\n",
       "       7.38958885, 8.82260589, 6.0197307 , 7.60575407, 8.05278134,\n",
       "       9.02605073, 2.66771879, 8.73980439, 1.11317483, 0.57935148,\n",
       "       8.837884  , 1.75077521, 9.58912137, 5.76054904, 7.60464536,\n",
       "       2.85047548, 5.53689032, 2.50136458, 3.65650481, 9.89727941,\n",
       "       6.86003409, 7.25348964, 2.88065064, 4.46626946, 0.13784789,\n",
       "       1.82600849, 5.94600074, 3.0908736 , 6.99724547, 7.33115416])"
      ]
     },
     "execution_count": 57,
     "metadata": {},
     "output_type": "execute_result"
    }
   ],
   "source": [
    "np.random.uniform(0,10,50)"
   ]
  },
  {
   "cell_type": "code",
   "execution_count": 58,
   "id": "6a97e840",
   "metadata": {},
   "outputs": [
    {
     "data": {
      "text/plain": [
       "Ridge(alpha=0.13692135678246786)"
      ]
     },
     "execution_count": 58,
     "metadata": {},
     "output_type": "execute_result"
    }
   ],
   "source": [
    "ridge_lr = Ridge(alpha = ridgecv.alpha_)\n",
    "ridge_lr.fit(x_train,y_train)"
   ]
  },
  {
   "cell_type": "code",
   "execution_count": 59,
   "id": "5dd18a94",
   "metadata": {},
   "outputs": [
    {
     "data": {
      "text/plain": [
       "0.8420062079645798"
      ]
     },
     "execution_count": 59,
     "metadata": {},
     "output_type": "execute_result"
    }
   ],
   "source": [
    "ridge_lr.score(x_test,y_test)"
   ]
  },
  {
   "cell_type": "code",
   "execution_count": 60,
   "id": "99300560",
   "metadata": {},
   "outputs": [
    {
     "data": {
      "text/plain": [
       "ElasticNetCV(cv=10)"
      ]
     },
     "execution_count": 60,
     "metadata": {},
     "output_type": "execute_result"
    }
   ],
   "source": [
    "elastic = ElasticNetCV(alphas= None ,cv = 10)\n",
    "elastic.fit(x_train,y_train)"
   ]
  },
  {
   "cell_type": "code",
   "execution_count": 61,
   "id": "0a4273b5",
   "metadata": {},
   "outputs": [
    {
     "data": {
      "text/plain": [
       "0.001391101145529104"
      ]
     },
     "execution_count": 61,
     "metadata": {},
     "output_type": "execute_result"
    }
   ],
   "source": [
    "elastic.alpha_"
   ]
  },
  {
   "cell_type": "code",
   "execution_count": 62,
   "id": "c1a669e0",
   "metadata": {},
   "outputs": [
    {
     "data": {
      "text/plain": [
       "0.5"
      ]
     },
     "execution_count": 62,
     "metadata": {},
     "output_type": "execute_result"
    }
   ],
   "source": [
    "elastic.l1_ratio"
   ]
  },
  {
   "cell_type": "code",
   "execution_count": 63,
   "id": "00b1b34d",
   "metadata": {},
   "outputs": [],
   "source": [
    "elastic_lr = ElasticNet(alpha = elastic.alpha_,l1_ratio= elastic.l1_ratio)"
   ]
  },
  {
   "cell_type": "code",
   "execution_count": 64,
   "id": "d2568729",
   "metadata": {},
   "outputs": [
    {
     "data": {
      "text/plain": [
       "ElasticNet(alpha=0.001391101145529104)"
      ]
     },
     "execution_count": 64,
     "metadata": {},
     "output_type": "execute_result"
    }
   ],
   "source": [
    "elastic_lr.fit(x_train,y_train)"
   ]
  },
  {
   "cell_type": "code",
   "execution_count": null,
   "id": "98e21d8b",
   "metadata": {},
   "outputs": [],
   "source": []
  },
  {
   "cell_type": "code",
   "execution_count": null,
   "id": "14101122",
   "metadata": {},
   "outputs": [],
   "source": [
    " "
   ]
  }
 ],
 "metadata": {
  "kernelspec": {
   "display_name": "Python 3 (ipykernel)",
   "language": "python",
   "name": "python3"
  },
  "language_info": {
   "codemirror_mode": {
    "name": "ipython",
    "version": 3
   },
   "file_extension": ".py",
   "mimetype": "text/x-python",
   "name": "python",
   "nbconvert_exporter": "python",
   "pygments_lexer": "ipython3",
   "version": "3.9.13"
  }
 },
 "nbformat": 4,
 "nbformat_minor": 5
}
